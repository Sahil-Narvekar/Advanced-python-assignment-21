{
 "cells": [
  {
   "cell_type": "code",
   "execution_count": null,
   "metadata": {},
   "outputs": [],
   "source": [
    "Q1. What is a probability distribution, exactly? If the values are meant to be random, how can you\n",
    "predict them at all?"
   ]
  },
  {
   "cell_type": "code",
   "execution_count": null,
   "metadata": {},
   "outputs": [],
   "source": [
    "A probability distribution is a statistical function that describes all the possible values and likelihoods\n",
    "that a random variable can take within a given range. This range will be bounded between the minimum and \n",
    "maximum possible values, but precisely where the possible value is likely to be plotted on the probability\n",
    "distribution depends on a number of factors. These factors include the distribution's mean (average),\n",
    "standard deviation, skewness."
   ]
  },
  {
   "cell_type": "code",
   "execution_count": null,
   "metadata": {},
   "outputs": [],
   "source": [
    "Example Suppose we take want to get height of random student then using probabilty distribution,since\n",
    "height follows normal bell curve distribution the proabilty of randm student having height exactly\n",
    "in the middle of given range  will be highest.Since it follows bell curve."
   ]
  },
  {
   "cell_type": "code",
   "execution_count": null,
   "metadata": {},
   "outputs": [],
   "source": [
    "Q2. Is there a distinction between true random numbers and pseudo-random numbers, if there is\n",
    "one? Why are the latter considered “good enough”?"
   ]
  },
  {
   "cell_type": "code",
   "execution_count": null,
   "metadata": {},
   "outputs": [],
   "source": [
    "The difference between true random number generators(TRNGs) and pseudo-random number generators(PRNGs)\n",
    "is that TRNGs use an unpredictable physical means to generate numbers (like atmospheric noise), and PRNGs\n",
    "use mathematical algorithms (completely computer-generated)."
   ]
  },
  {
   "cell_type": "code",
   "execution_count": null,
   "metadata": {},
   "outputs": [],
   "source": [
    "True-RNG's will not really be cost-efficient if you compare it to Pseudo-RNG's. True-RNG's will be subject\n",
    "to wear and tear since all things natural will really be subject to entropy. A Pseudo-RNG will not be \n",
    "subject to such physical phenomena."
   ]
  },
  {
   "cell_type": "code",
   "execution_count": null,
   "metadata": {},
   "outputs": [],
   "source": [
    "Another efficiency of a Pseudo-RNG is that you can reproduce the same sequence of numbers in another time\n",
    "by simply knowing the starting point of the sequence (thus it is also periodic and the sequence will \n",
    "repeat itself in due time)."
   ]
  },
  {
   "cell_type": "code",
   "execution_count": null,
   "metadata": {},
   "outputs": [],
   "source": [
    "Numbers produced by a Pseudo-RNG, though periodic, the time to reproduce the same sequence will eventually\n",
    "take a really long time that unless you acquire the actual algorithms, the correct sequence will be very \n",
    "difficult (almost impossible) to crack."
   ]
  },
  {
   "cell_type": "code",
   "execution_count": null,
   "metadata": {},
   "outputs": [],
   "source": [
    "Q3. What are the two main factors that influence the behaviour of a normal probability distribution?"
   ]
  },
  {
   "cell_type": "code",
   "execution_count": null,
   "metadata": {},
   "outputs": [],
   "source": [
    "As with any probability distribution, the parameters for the normal distribution define its shape and \n",
    "probabilities entirely. The normal distribution has two parameters, the mean and standard deviation."
   ]
  },
  {
   "cell_type": "code",
   "execution_count": null,
   "metadata": {},
   "outputs": [],
   "source": [
    "The mean is the central tendency of the distribution. It defines the location of the peak for normal \n",
    "distributions. Most values cluster around the mean. On a graph, changing the mean shifts the entire curve\n",
    "left or right on the X-axis."
   ]
  },
  {
   "cell_type": "code",
   "execution_count": null,
   "metadata": {},
   "outputs": [],
   "source": [
    "The standard deviation is a measure of variability. It defines the width of the normal distribution.\n",
    "The standard deviation determines how far away from the mean the values tend to fall. It represents \n",
    "the typical distance between the observations and the average.\n",
    "When you have narrow distributions, the probabilities are higher that values won’t fall far from the mean.\n",
    "As you increase the spread of the distribution, the likelihood that observations will be further away from\n",
    "the mean also increases."
   ]
  },
  {
   "cell_type": "code",
   "execution_count": null,
   "metadata": {},
   "outputs": [],
   "source": [
    "Q4. Provide a real-life example of a normal distribution."
   ]
  },
  {
   "cell_type": "code",
   "execution_count": null,
   "metadata": {},
   "outputs": [],
   "source": [
    "Height follows normal bell curve distribution the proabilty of random girl having height exactly\n",
    "at the mean of given range  will be highest.Since it follows bell curve.The distribution is symmetric.\n",
    "The number of girls shorter than average equals the number of girls taller than average. In both tails \n",
    "of the distribution, extremely short girls occur as infrequently as extremely tall girls."
   ]
  },
  {
   "cell_type": "code",
   "execution_count": null,
   "metadata": {},
   "outputs": [],
   "source": [
    "Q5. In the short term, how can you expect a probability distribution to behave? What do you think will\n",
    "happen as the number of trials grows?"
   ]
  },
  {
   "cell_type": "code",
   "execution_count": null,
   "metadata": {},
   "outputs": [],
   "source": [
    "In short term the probability distribution will be varyig from the mean ,that is standard deviation\n",
    "of smaller sample will be more but as we increase the number of trials,it is more likely to have normal\n",
    "distribution."
   ]
  },
  {
   "cell_type": "code",
   "execution_count": null,
   "metadata": {},
   "outputs": [],
   "source": [
    "Q6. What kind of object can be shuffled by using random.shuffle?"
   ]
  },
  {
   "cell_type": "code",
   "execution_count": null,
   "metadata": {},
   "outputs": [],
   "source": [
    "To randomly shuffle elements of lists (list), strings (str) and tuples (tuple) in Python,"
   ]
  },
  {
   "cell_type": "code",
   "execution_count": 7,
   "metadata": {},
   "outputs": [
    {
     "data": {
      "text/plain": [
       "[9, 6, 7, 8, 2, 4, 3, 1, 5]"
      ]
     },
     "execution_count": 7,
     "metadata": {},
     "output_type": "execute_result"
    }
   ],
   "source": [
    "a=[1,2,3,4,5,6,7,8,9]\n",
    "\n",
    "import random\n",
    "random.shuffle(a)\n",
    "\n",
    "a"
   ]
  },
  {
   "cell_type": "code",
   "execution_count": null,
   "metadata": {},
   "outputs": [],
   "source": [
    "Shuffling can be used so as to avoid any bias caused due to order during training ."
   ]
  },
  {
   "cell_type": "code",
   "execution_count": null,
   "metadata": {},
   "outputs": [],
   "source": [
    "Q7. Describe the math package's general categories of functions."
   ]
  },
  {
   "cell_type": "code",
   "execution_count": null,
   "metadata": {},
   "outputs": [],
   "source": [
    "Some of the most popular mathematical functions are defined in the math module. \n",
    "These include trigonometric functions(a),Hyperbolic functions(b), logarithmic functions(c),\n",
    "angle conversion functions(d)"
   ]
  },
  {
   "cell_type": "code",
   "execution_count": 18,
   "metadata": {},
   "outputs": [
    {
     "data": {
      "text/plain": [
       "90.0"
      ]
     },
     "execution_count": 18,
     "metadata": {},
     "output_type": "execute_result"
    }
   ],
   "source": [
    "import math\n",
    "from math import pi\n",
    "a=math.sin(pi/2)\n",
    "b=math.asinh(pi/2)\n",
    "c=math.log2(5)\n",
    "d=math.degrees(pi/2)\n",
    "d"
   ]
  },
  {
   "cell_type": "code",
   "execution_count": null,
   "metadata": {},
   "outputs": [],
   "source": [
    "Q8. What is the relationship between exponentiation and logarithms?"
   ]
  },
  {
   "cell_type": "code",
   "execution_count": null,
   "metadata": {},
   "outputs": [],
   "source": [
    "Logarithmic functions are the inverses of exponential functions. The inverse of the exponential function\n",
    "y = a^x is x = a^y. The logarithmic function y = logax is defined to be equivalent to the exponential \n",
    "equation x = a^y. y = logx(with base a) only under the following conditions: x = a^y, a > 0, and a≠1. \n",
    "It is called the logarithmic function with base a."
   ]
  },
  {
   "cell_type": "code",
   "execution_count": 39,
   "metadata": {},
   "outputs": [
    {
     "data": {
      "text/plain": [
       "0.0"
      ]
     },
     "execution_count": 39,
     "metadata": {},
     "output_type": "execute_result"
    }
   ],
   "source": [
    "math.log(1)"
   ]
  },
  {
   "cell_type": "code",
   "execution_count": 40,
   "metadata": {},
   "outputs": [
    {
     "data": {
      "text/plain": [
       "1.0"
      ]
     },
     "execution_count": 40,
     "metadata": {},
     "output_type": "execute_result"
    }
   ],
   "source": [
    "math.exp(0)"
   ]
  },
  {
   "cell_type": "code",
   "execution_count": null,
   "metadata": {},
   "outputs": [],
   "source": [
    "Q9. What are the three logarithmic functions that Python supports?"
   ]
  },
  {
   "cell_type": "code",
   "execution_count": null,
   "metadata": {},
   "outputs": [],
   "source": [
    "log2(x) – log base 2\n",
    "The math.log2(x) function is used to calculate the logarithmic value of a numeric expression of base 2.\n",
    "\n",
    "log(n, Base) – log base n\n",
    "The math.log(x,Base) function calculates the logarithmic value of x i.e. numeric expression for a \n",
    "particular (desired) base value.\n",
    "math.log(numeric_expression,base_value)\n",
    "log10(x) – log base 10\n",
    "The math.log10(x) function calculates the logarithmic value of the numeric expression to the base 10.\n",
    "math.log10(numeric_expression)"
   ]
  },
  {
   "cell_type": "code",
   "execution_count": 41,
   "metadata": {},
   "outputs": [
    {
     "data": {
      "text/plain": [
       "3.321928094887362"
      ]
     },
     "execution_count": 41,
     "metadata": {},
     "output_type": "execute_result"
    }
   ],
   "source": [
    "math.log2(10)"
   ]
  },
  {
   "cell_type": "code",
   "execution_count": 45,
   "metadata": {},
   "outputs": [
    {
     "data": {
      "text/plain": [
       "1.4306765580733933"
      ]
     },
     "execution_count": 45,
     "metadata": {},
     "output_type": "execute_result"
    }
   ],
   "source": [
    "math.log(10,5)"
   ]
  },
  {
   "cell_type": "code",
   "execution_count": 46,
   "metadata": {},
   "outputs": [
    {
     "data": {
      "text/plain": [
       "1.0"
      ]
     },
     "execution_count": 46,
     "metadata": {},
     "output_type": "execute_result"
    }
   ],
   "source": [
    "math.log10(10)"
   ]
  },
  {
   "cell_type": "code",
   "execution_count": null,
   "metadata": {},
   "outputs": [],
   "source": []
  }
 ],
 "metadata": {
  "kernelspec": {
   "display_name": "Python 3",
   "language": "python",
   "name": "python3"
  },
  "language_info": {
   "codemirror_mode": {
    "name": "ipython",
    "version": 3
   },
   "file_extension": ".py",
   "mimetype": "text/x-python",
   "name": "python",
   "nbconvert_exporter": "python",
   "pygments_lexer": "ipython3",
   "version": "3.8.3"
  }
 },
 "nbformat": 4,
 "nbformat_minor": 4
}
